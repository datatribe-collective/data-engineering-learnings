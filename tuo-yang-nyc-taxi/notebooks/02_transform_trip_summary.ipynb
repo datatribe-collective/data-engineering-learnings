{
 "cells": [
  {
   "cell_type": "markdown",
   "id": "4b5eb3c2-c8f2-44f2-a60b-c2c8da69cfa5",
   "metadata": {},
   "source": [
    "# Transform: Hourly Summary Table of NYC Taxi Trips - Data Transformation\n",
    "\n",
    "This notebook aggregates raw NYC Yellow Taxi data (January 2023) into a structured hourly summary table, which can be used for visualization and downstream analytics. DuckDB is used for efficient SQL-based transformation."
   ]
  },
  {
   "cell_type": "code",
   "execution_count": 1,
   "id": "f10c2bcc-5786-4a01-9a70-75e4a99a67d8",
   "metadata": {},
   "outputs": [],
   "source": [
    "# Imports and configuration\n",
    "import pandas as pd\n",
    "import duckdb\n",
    "from pathlib import Path\n",
    "\n",
    "# Paths\n",
    "PROJECT_ROOT = Path(\"..\")\n",
    "RAW_DATA_PATH = PROJECT_ROOT / \"data\" / \"raw\" / \"yellow_tripdata_2023-01.parquet\"\n",
    "OUTPUT_PATH = PROJECT_ROOT / \"data\" / \"processed\" / \"trip_summary_hourly.csv\""
   ]
  },
  {
   "cell_type": "code",
   "execution_count": 2,
   "id": "63086d29-9e01-418c-8743-383ad860d491",
   "metadata": {},
   "outputs": [
    {
     "data": {
      "text/plain": [
       "<duckdb.duckdb.DuckDBPyConnection at 0x214baaadcb0>"
      ]
     },
     "execution_count": 2,
     "metadata": {},
     "output_type": "execute_result"
    }
   ],
   "source": [
    "# Connect to DuckDB and register the Parquet file as a virtual table\n",
    "con = duckdb.connect(database=\":memory:\")\n",
    "con.execute(f\"CREATE VIEW yellow_taxi AS SELECT * FROM '{RAW_DATA_PATH}'\")"
   ]
  },
  {
   "cell_type": "markdown",
   "id": "40fcb00f-1303-40e1-958d-2c53faea65b4",
   "metadata": {},
   "source": [
    "### Load and Execute SQL Query\n",
    "\n",
    "The transformation logic is stored in a separate `.sql` file for better readability and maintainability."
   ]
  },
  {
   "cell_type": "markdown",
   "id": "2f00ff49-6678-4c97-80c3-ece7438406cf",
   "metadata": {},
   "source": [
    "### SQL Transformation\n",
    "\n",
    "The query is stored externally in a `.sql` file for better maintainability. It generates a summary table with hourly-level metrics: trip count, average distance, total amount, and duration (in minutes)."
   ]
  },
  {
   "cell_type": "code",
   "execution_count": 3,
   "id": "1cb726ca-d9cc-4802-8f57-020baa935d81",
   "metadata": {},
   "outputs": [
    {
     "data": {
      "text/html": [
       "<div>\n",
       "<style scoped>\n",
       "    .dataframe tbody tr th:only-of-type {\n",
       "        vertical-align: middle;\n",
       "    }\n",
       "\n",
       "    .dataframe tbody tr th {\n",
       "        vertical-align: top;\n",
       "    }\n",
       "\n",
       "    .dataframe thead th {\n",
       "        text-align: right;\n",
       "    }\n",
       "</style>\n",
       "<table border=\"1\" class=\"dataframe\">\n",
       "  <thead>\n",
       "    <tr style=\"text-align: right;\">\n",
       "      <th></th>\n",
       "      <th>pickup_hour</th>\n",
       "      <th>trip_count</th>\n",
       "      <th>avg_distance</th>\n",
       "      <th>avg_total_amount</th>\n",
       "      <th>avg_duration_min</th>\n",
       "    </tr>\n",
       "  </thead>\n",
       "  <tbody>\n",
       "    <tr>\n",
       "      <th>0</th>\n",
       "      <td>2023-01-01 00:00:00</td>\n",
       "      <td>5217</td>\n",
       "      <td>3.388792</td>\n",
       "      <td>27.435576</td>\n",
       "      <td>18.045454</td>\n",
       "    </tr>\n",
       "    <tr>\n",
       "      <th>1</th>\n",
       "      <td>2023-01-01 01:00:00</td>\n",
       "      <td>5561</td>\n",
       "      <td>3.345114</td>\n",
       "      <td>27.218675</td>\n",
       "      <td>17.673581</td>\n",
       "    </tr>\n",
       "    <tr>\n",
       "      <th>2</th>\n",
       "      <td>2023-01-01 02:00:00</td>\n",
       "      <td>4944</td>\n",
       "      <td>3.441210</td>\n",
       "      <td>26.793956</td>\n",
       "      <td>17.534884</td>\n",
       "    </tr>\n",
       "    <tr>\n",
       "      <th>3</th>\n",
       "      <td>2023-01-01 03:00:00</td>\n",
       "      <td>3804</td>\n",
       "      <td>3.606159</td>\n",
       "      <td>27.200815</td>\n",
       "      <td>16.449330</td>\n",
       "    </tr>\n",
       "    <tr>\n",
       "      <th>4</th>\n",
       "      <td>2023-01-01 04:00:00</td>\n",
       "      <td>2381</td>\n",
       "      <td>3.977761</td>\n",
       "      <td>28.495120</td>\n",
       "      <td>15.952233</td>\n",
       "    </tr>\n",
       "  </tbody>\n",
       "</table>\n",
       "</div>"
      ],
      "text/plain": [
       "          pickup_hour  trip_count  avg_distance  avg_total_amount  \\\n",
       "0 2023-01-01 00:00:00        5217      3.388792         27.435576   \n",
       "1 2023-01-01 01:00:00        5561      3.345114         27.218675   \n",
       "2 2023-01-01 02:00:00        4944      3.441210         26.793956   \n",
       "3 2023-01-01 03:00:00        3804      3.606159         27.200815   \n",
       "4 2023-01-01 04:00:00        2381      3.977761         28.495120   \n",
       "\n",
       "   avg_duration_min  \n",
       "0         18.045454  \n",
       "1         17.673581  \n",
       "2         17.534884  \n",
       "3         16.449330  \n",
       "4         15.952233  "
      ]
     },
     "execution_count": 3,
     "metadata": {},
     "output_type": "execute_result"
    }
   ],
   "source": [
    "# Read SQL query from .sql file, query is loaded from external file for clarity\n",
    "query_path = PROJECT_ROOT / \"sql\" / \"trip_summary_hourly.sql\"\n",
    "with open(query_path) as f:\n",
    "    query = f.read()\n",
    "\n",
    "# Execute query and load results\n",
    "df_summary = con.execute(query).fetchdf()\n",
    "df_summary.head()"
   ]
  },
  {
   "cell_type": "markdown",
   "id": "2ed9d527-2409-4ebb-a3e7-43e12dd334b2",
   "metadata": {},
   "source": [
    "### Export\n",
    "\n",
    "The resulting summary is saved as a CSV file under the processed data folder."
   ]
  },
  {
   "cell_type": "code",
   "execution_count": 4,
   "id": "5941a82f-3171-4b98-b011-eb8bd1f0c675",
   "metadata": {},
   "outputs": [
    {
     "name": "stdout",
     "output_type": "stream",
     "text": [
      "Summary table generated and saved: D:\\DataTribes Four-Week Learning\\data-engineering-learnings\\tuo-yang-nyc-taxi\\data\\processed\\trip_summary_hourly.csv\n"
     ]
    }
   ],
   "source": [
    "# Output the SQL querying results to csv files\n",
    "df_summary.to_csv(OUTPUT_PATH, index=False)\n",
    "\n",
    "print(\"Summary table generated and saved:\", OUTPUT_PATH.resolve())"
   ]
  },
  {
   "cell_type": "markdown",
   "id": "27af257a-2870-449c-b5e2-c45d0ef0a3b6",
   "metadata": {},
   "source": [
    "### Output Validation\n",
    "\n",
    "Basic checks to ensure the summary table has the expected structure and no missing values."
   ]
  },
  {
   "cell_type": "code",
   "execution_count": 5,
   "id": "9d626805-ded6-4af1-b737-666b78bc1dd3",
   "metadata": {},
   "outputs": [
    {
     "name": "stdout",
     "output_type": "stream",
     "text": [
      "Row check: 744 / 744\n",
      "Missing values: 0\n",
      "Output shape and null check passed.\n"
     ]
    }
   ],
   "source": [
    "# Sanity checks\n",
    "expected_rows = 24 * 31\n",
    "actual_rows = len(df_summary)\n",
    "null_count = df_summary.isnull().sum().sum()\n",
    "\n",
    "print(f\"Row check: {actual_rows} / {expected_rows}\")\n",
    "print(f\"Missing values: {null_count}\")\n",
    "\n",
    "assert actual_rows == expected_rows # Excepting 744 rows (hourly data for 31 days)\n",
    "assert null_count == 0              # No missing values\n",
    "print(\"Output shape and null check passed.\")"
   ]
  },
  {
   "cell_type": "markdown",
   "id": "9fa2475d-3fba-419e-8c41-5522d36033ec",
   "metadata": {},
   "source": [
    "### Summary\n",
    "\n",
    "Hourly-level statistics have been successfully computed and saved. The output summary table can be used as a backend for visualizing key metrics such as trip volume, distance, and fare patterns over time.\n",
    "\n",
    "Next step: build an interactive interface or dashboard to explore these trends more effectively — either within a web app (e.g., Streamlit) or using BI tools like Looker Studio."
   ]
  }
 ],
 "metadata": {
  "kernelspec": {
   "display_name": "Python 3 (ipykernel)",
   "language": "python",
   "name": "python3"
  },
  "language_info": {
   "codemirror_mode": {
    "name": "ipython",
    "version": 3
   },
   "file_extension": ".py",
   "mimetype": "text/x-python",
   "name": "python",
   "nbconvert_exporter": "python",
   "pygments_lexer": "ipython3",
   "version": "3.10.16"
  }
 },
 "nbformat": 4,
 "nbformat_minor": 5
}
